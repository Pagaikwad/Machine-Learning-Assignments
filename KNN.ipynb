{
  "nbformat": 4,
  "nbformat_minor": 0,
  "metadata": {
    "colab": {
      "name": "KNN.ipynb",
      "provenance": []
    },
    "kernelspec": {
      "name": "python3",
      "display_name": "Python 3"
    },
    "language_info": {
      "name": "python"
    }
  },
  "cells": [
    {
      "cell_type": "markdown",
      "source": [
        "The steps for the algorithm are\n",
        "\n",
        "1. Calculate the distance between the new instance from the known data.\n",
        "2. Count the classes of the K Nearest Neighbors.\n",
        "3. Classify the instance based on the majority of classes obtained in the previous step."
      ],
      "metadata": {
        "id": "RllrBBlz_iM6"
      }
    },
    {
      "cell_type": "code",
      "execution_count": 19,
      "metadata": {
        "id": "hwqvv4db_CLP"
      },
      "outputs": [],
      "source": [
        "\n",
        "import numpy as np\n",
        "from sklearn.datasets import make_classification"
      ]
    },
    {
      "cell_type": "code",
      "source": [
        "def euclidian_distance(a, b):\n",
        "    return np.sqrt(np.sum((a-b)**2, axis=1))"
      ],
      "metadata": {
        "id": "arpLouU0K4sG"
      },
      "execution_count": 20,
      "outputs": []
    },
    {
      "cell_type": "code",
      "source": [
        "def kneighbors(X_test, return_distance=False):\n",
        "       \n",
        "        n_neighbors = 5\n",
        "        dist = []\n",
        "        neigh_ind = []\n",
        "        \n",
        "        point_dist = [euclidian_distance(x_test, X_train) for x_test in X_test]\n",
        "\n",
        "        for row in point_dist:\n",
        "            enum_neigh = enumerate(row)\n",
        "            sorted_neigh = sorted(enum_neigh, key=lambda x: x[1])[:n_neighbors]\n",
        "    \n",
        "            ind_list = [tup[0] for tup in sorted_neigh]\n",
        "            dist_list = [tup[1] for tup in sorted_neigh]\n",
        "    \n",
        "            dist.append(dist_list)\n",
        "            neigh_ind.append(ind_list)\n",
        "        \n",
        "        if return_distance:\n",
        "            return np.array(dist), np.array(neigh_ind)\n",
        "        \n",
        "        return np.array(neigh_ind)"
      ],
      "metadata": {
        "id": "AoIoDFG-K_4n"
      },
      "execution_count": 21,
      "outputs": []
    },
    {
      "cell_type": "code",
      "source": [
        "def predict(X_test, weights='uniform'):\n",
        "        \n",
        "        class_num = 3\n",
        "        \n",
        "        if weights=='uniform':\n",
        "            neighbors = kneighbors(X_test)\n",
        "            y_pred = np.array([np.argmax(np.bincount(y_train[neighbor])) for neighbor in neighbors])\n",
        "        \n",
        "            return y_pred \n",
        "    \n",
        "        if weights=='distance':\n",
        "        \n",
        "            dist, neigh_ind = kneighbors(X_test, return_distance=True)\n",
        "        \n",
        "            inv_dist = 1/dist\n",
        "            \n",
        "            mean_inv_dist = inv_dist / np.sum(inv_dist, axis=1)[:, np.newaxis]\n",
        "            \n",
        "            proba = []\n",
        "            \n",
        "            for i, row in enumerate(mean_inv_dist):\n",
        "                \n",
        "                row_pred = self.y_train[neigh_ind[i]]\n",
        "                \n",
        "                for k in range(class_num):\n",
        "                    indices = np.where(row_pred==k)\n",
        "                    prob_ind = np.sum(row[indices])\n",
        "                    proba.append(np.array(prob_ind))\n",
        "        \n",
        "            predict_proba = np.array(proba).reshape(X_test.shape[0], class_num)\n",
        "            \n",
        "            y_pred = np.array([np.argmax(item) for item in predict_proba])\n",
        "            \n",
        "            return y_pred"
      ],
      "metadata": {
        "id": "IuDJeALDLBVk"
      },
      "execution_count": 22,
      "outputs": []
    },
    {
      "cell_type": "code",
      "source": [
        "def score(X_test, y_test):\n",
        "    y_pred = predict(X_test)\n",
        "        \n",
        "    return float(sum(y_pred == y_test))/ float(len(y_test))"
      ],
      "metadata": {
        "id": "gT5VxXElLKeI"
      },
      "execution_count": 28,
      "outputs": []
    },
    {
      "cell_type": "code",
      "source": [
        "from sklearn.datasets import make_classification\n",
        "X, y = make_classification(n_samples = 1000, n_features=2, n_redundant=0, n_informative=2,\n",
        "                             n_clusters_per_class=1, n_classes=3, random_state=21)\n",
        "\n",
        "mu = np.mean(X, 0)\n",
        "sigma = np.std(X, 0)\n",
        "\n",
        "X = (X - mu ) / sigma"
      ],
      "metadata": {
        "id": "Wfiggc7vAJYT"
      },
      "execution_count": 23,
      "outputs": []
    },
    {
      "cell_type": "code",
      "source": [
        "data = np.hstack((X, y[:, np.newaxis]))\n",
        "        \n",
        "np.random.shuffle(data)\n",
        "\n",
        "split_rate = 0.7\n",
        "\n",
        "train, test = np.split(data, [int(split_rate*(data.shape[0]))])\n",
        "\n",
        "X_train = train[:,:-1]\n",
        "y_train = train[:, -1]\n",
        "\n",
        "X_test = test[:,:-1]\n",
        "y_test = test[:, -1]\n",
        "\n",
        "y_train = y_train.astype(int)\n",
        "y_test = y_test.astype(int)"
      ],
      "metadata": {
        "id": "fSsz13PxLU5o"
      },
      "execution_count": 24,
      "outputs": []
    },
    {
      "cell_type": "code",
      "source": [
        "kneighbors(X_test)"
      ],
      "metadata": {
        "colab": {
          "base_uri": "https://localhost:8080/"
        },
        "id": "QnjI-MtPLl3j",
        "outputId": "83b0db47-fc82-4f30-9726-dc0fbf26d7e3"
      },
      "execution_count": 25,
      "outputs": [
        {
          "output_type": "execute_result",
          "data": {
            "text/plain": [
              "array([[280, 234, 249, 192, 260],\n",
              "       [171, 518,  60,  68, 107],\n",
              "       [179, 239, 329, 190, 496],\n",
              "       ...,\n",
              "       [171,  60, 518,  68,  67],\n",
              "       [316, 427, 514, 230, 651],\n",
              "       [ 57,  90, 363, 501,  49]])"
            ]
          },
          "metadata": {},
          "execution_count": 25
        }
      ]
    },
    {
      "cell_type": "code",
      "source": [
        "predict(X_test)"
      ],
      "metadata": {
        "colab": {
          "base_uri": "https://localhost:8080/"
        },
        "id": "zqkTQhiyLntX",
        "outputId": "2f6cfe7c-0a27-407e-d7a4-aeb7e55be1aa"
      },
      "execution_count": 26,
      "outputs": [
        {
          "output_type": "execute_result",
          "data": {
            "text/plain": [
              "array([0, 1, 2, 1, 0, 1, 2, 1, 0, 1, 1, 0, 2, 0, 2, 1, 1, 1, 2, 2, 0, 1,\n",
              "       1, 1, 1, 2, 2, 2, 1, 2, 0, 1, 1, 0, 0, 1, 0, 0, 2, 1, 2, 0, 1, 2,\n",
              "       2, 2, 1, 1, 1, 1, 1, 1, 2, 1, 1, 1, 2, 2, 1, 1, 1, 2, 0, 2, 1, 1,\n",
              "       0, 2, 1, 1, 1, 1, 1, 1, 1, 0, 1, 2, 0, 1, 2, 2, 1, 0, 1, 1, 1, 1,\n",
              "       0, 2, 0, 2, 2, 1, 0, 0, 0, 2, 0, 1, 2, 2, 0, 1, 2, 2, 1, 0, 0, 2,\n",
              "       2, 0, 2, 0, 1, 2, 0, 2, 2, 1, 0, 2, 2, 0, 0, 1, 2, 1, 1, 2, 1, 0,\n",
              "       0, 0, 1, 0, 1, 2, 0, 1, 0, 2, 2, 0, 1, 2, 0, 0, 1, 1, 1, 2, 0, 0,\n",
              "       0, 0, 0, 1, 2, 2, 0, 0, 1, 1, 1, 1, 2, 1, 1, 2, 0, 0, 0, 2, 0, 2,\n",
              "       1, 0, 1, 0, 0, 2, 2, 1, 2, 0, 1, 1, 1, 2, 0, 2, 1, 2, 1, 0, 2, 1,\n",
              "       2, 1, 0, 2, 0, 2, 2, 2, 0, 1, 1, 1, 1, 0, 1, 0, 0, 1, 1, 0, 2, 0,\n",
              "       2, 2, 1, 1, 2, 1, 2, 0, 0, 0, 0, 0, 0, 0, 2, 2, 0, 2, 1, 2, 2, 0,\n",
              "       2, 0, 1, 1, 1, 0, 0, 1, 2, 1, 1, 2, 1, 0, 0, 1, 2, 0, 1, 1, 2, 1,\n",
              "       1, 1, 0, 2, 1, 1, 2, 1, 2, 2, 0, 2, 2, 2, 0, 1, 0, 0, 2, 2, 2, 0,\n",
              "       0, 2, 1, 2, 1, 2, 0, 0, 0, 0, 0, 1, 0, 0])"
            ]
          },
          "metadata": {},
          "execution_count": 26
        }
      ]
    },
    {
      "cell_type": "code",
      "source": [
        "score(X_test, y_test)"
      ],
      "metadata": {
        "colab": {
          "base_uri": "https://localhost:8080/"
        },
        "id": "ny2GqBtqLrpQ",
        "outputId": "13a5d86a-9b75-4584-d3c6-c698734541f8"
      },
      "execution_count": 29,
      "outputs": [
        {
          "output_type": "execute_result",
          "data": {
            "text/plain": [
              "0.9833333333333333"
            ]
          },
          "metadata": {},
          "execution_count": 29
        }
      ]
    },
    {
      "cell_type": "code",
      "source": [
        "import numpy as np\n",
        "\n",
        "\n",
        "class KNearestNeighbors():\n",
        "    def __init__(self, X_train, y_train, n_neighbors=5, weights='uniform'):\n",
        "\n",
        "        self.X_train = X_train\n",
        "        self.y_train = y_train\n",
        "\n",
        "        self.n_neighbors = n_neighbors\n",
        "        self.weights = weights\n",
        "\n",
        "        self.n_classes = 3\n",
        "\n",
        "    def euclidian_distance(self, a, b):\n",
        "        return np.sqrt(np.sum((a - b)**2, axis=1))\n",
        "\n",
        "    def kneighbors(self, X_test, return_distance=False):\n",
        "\n",
        "        dist = []\n",
        "        neigh_ind = []\n",
        "\n",
        "        point_dist = [self.euclidian_distance(x_test, self.X_train) for x_test in X_test]\n",
        "\n",
        "        for row in point_dist:\n",
        "            enum_neigh = enumerate(row)\n",
        "            sorted_neigh = sorted(enum_neigh,\n",
        "                                  key=lambda x: x[1])[:self.n_neighbors]\n",
        "\n",
        "            ind_list = [tup[0] for tup in sorted_neigh]\n",
        "            dist_list = [tup[1] for tup in sorted_neigh]\n",
        "\n",
        "            dist.append(dist_list)\n",
        "            neigh_ind.append(ind_list)\n",
        "\n",
        "        if return_distance:\n",
        "            return np.array(dist), np.array(neigh_ind)\n",
        "\n",
        "        return np.array(neigh_ind)\n",
        "\n",
        "    def predict(self, X_test):\n",
        "\n",
        "        if self.weights == 'uniform':\n",
        "            neighbors = self.kneighbors(X_test)\n",
        "            y_pred = np.array([\n",
        "                np.argmax(np.bincount(self.y_train[neighbor]))\n",
        "                for neighbor in neighbors\n",
        "            ])\n",
        "\n",
        "            return y_pred\n",
        "\n",
        "        if self.weights == 'distance':\n",
        "\n",
        "            dist, neigh_ind = self.kneighbors(X_test, return_distance=True)\n",
        "\n",
        "            inv_dist = 1 / dist\n",
        "\n",
        "            mean_inv_dist = inv_dist / np.sum(inv_dist, axis=1)[:, np.newaxis]\n",
        "\n",
        "            proba = []\n",
        "\n",
        "            for i, row in enumerate(mean_inv_dist):\n",
        "\n",
        "                row_pred = self.y_train[neigh_ind[i]]\n",
        "\n",
        "                for k in range(self.n_classes):\n",
        "                    indices = np.where(row_pred == k)\n",
        "                    prob_ind = np.sum(row[indices])\n",
        "                    proba.append(np.array(prob_ind))\n",
        "\n",
        "            predict_proba = np.array(proba).reshape(X_test.shape[0],\n",
        "                                                    self.n_classes)\n",
        "\n",
        "            y_pred = np.array([np.argmax(item) for item in predict_proba])\n",
        "\n",
        "            return y_pred\n",
        "\n",
        "    def score(self, X_test, y_test):\n",
        "        y_pred = self.predict(X_test)\n",
        "        \n",
        "        return float(sum(y_pred == y_test)) / float(len(y_test))\n",
        "\n",
        "\n",
        "from sklearn.datasets import load_iris\n",
        "\n",
        "from sklearn.model_selection import train_test_split\n",
        "from sklearn.neighbors import KNeighborsClassifier\n",
        "import pandas as pd\n",
        "\n",
        "\n",
        "dataset = load_iris()\n",
        "\n",
        "X = dataset.data\n",
        "y = dataset.target\n",
        "\n",
        "mu = np.mean(X, 0)\n",
        "sigma = np.std(X, 0)\n",
        "X = (X - mu ) / sigma\n",
        "\n",
        "X_train, X_test, y_train, y_test = train_test_split(\\\n",
        "                X, y, test_size=0.3, random_state=45)\n",
        "\n",
        "our_classifier = KNearestNeighbors(X_train, y_train, n_neighbors=3)\n",
        "sklearn_classifier = KNeighborsClassifier(n_neighbors=3).fit(X_train, y_train)\n",
        "\n",
        "our_accuracy = our_classifier.score(X_test, y_test)\n",
        "sklearn_accuracy = sklearn_classifier.score(X_test, y_test)\n",
        "\n",
        "pd.DataFrame([[our_accuracy, sklearn_accuracy]],\n",
        "             ['Accuracy'],    \n",
        "             ['Our Implementation', 'Sklearn\\'s Implementation'])\n",
        "       \n",
        "  "
      ],
      "metadata": {
        "colab": {
          "base_uri": "https://localhost:8080/",
          "height": 81
        },
        "id": "Sn43A_BAMPt2",
        "outputId": "6a19c493-ab34-4207-e4fd-9360567b93d6"
      },
      "execution_count": 44,
      "outputs": [
        {
          "output_type": "execute_result",
          "data": {
            "text/plain": [
              "          Our Implementation  Sklearn's Implementation\n",
              "Accuracy            0.955556                  0.955556"
            ],
            "text/html": [
              "\n",
              "  <div id=\"df-96155fd9-a343-4eca-bd4e-4d780623c2aa\">\n",
              "    <div class=\"colab-df-container\">\n",
              "      <div>\n",
              "<style scoped>\n",
              "    .dataframe tbody tr th:only-of-type {\n",
              "        vertical-align: middle;\n",
              "    }\n",
              "\n",
              "    .dataframe tbody tr th {\n",
              "        vertical-align: top;\n",
              "    }\n",
              "\n",
              "    .dataframe thead th {\n",
              "        text-align: right;\n",
              "    }\n",
              "</style>\n",
              "<table border=\"1\" class=\"dataframe\">\n",
              "  <thead>\n",
              "    <tr style=\"text-align: right;\">\n",
              "      <th></th>\n",
              "      <th>Our Implementation</th>\n",
              "      <th>Sklearn's Implementation</th>\n",
              "    </tr>\n",
              "  </thead>\n",
              "  <tbody>\n",
              "    <tr>\n",
              "      <th>Accuracy</th>\n",
              "      <td>0.955556</td>\n",
              "      <td>0.955556</td>\n",
              "    </tr>\n",
              "  </tbody>\n",
              "</table>\n",
              "</div>\n",
              "      <button class=\"colab-df-convert\" onclick=\"convertToInteractive('df-96155fd9-a343-4eca-bd4e-4d780623c2aa')\"\n",
              "              title=\"Convert this dataframe to an interactive table.\"\n",
              "              style=\"display:none;\">\n",
              "        \n",
              "  <svg xmlns=\"http://www.w3.org/2000/svg\" height=\"24px\"viewBox=\"0 0 24 24\"\n",
              "       width=\"24px\">\n",
              "    <path d=\"M0 0h24v24H0V0z\" fill=\"none\"/>\n",
              "    <path d=\"M18.56 5.44l.94 2.06.94-2.06 2.06-.94-2.06-.94-.94-2.06-.94 2.06-2.06.94zm-11 1L8.5 8.5l.94-2.06 2.06-.94-2.06-.94L8.5 2.5l-.94 2.06-2.06.94zm10 10l.94 2.06.94-2.06 2.06-.94-2.06-.94-.94-2.06-.94 2.06-2.06.94z\"/><path d=\"M17.41 7.96l-1.37-1.37c-.4-.4-.92-.59-1.43-.59-.52 0-1.04.2-1.43.59L10.3 9.45l-7.72 7.72c-.78.78-.78 2.05 0 2.83L4 21.41c.39.39.9.59 1.41.59.51 0 1.02-.2 1.41-.59l7.78-7.78 2.81-2.81c.8-.78.8-2.07 0-2.86zM5.41 20L4 18.59l7.72-7.72 1.47 1.35L5.41 20z\"/>\n",
              "  </svg>\n",
              "      </button>\n",
              "      \n",
              "  <style>\n",
              "    .colab-df-container {\n",
              "      display:flex;\n",
              "      flex-wrap:wrap;\n",
              "      gap: 12px;\n",
              "    }\n",
              "\n",
              "    .colab-df-convert {\n",
              "      background-color: #E8F0FE;\n",
              "      border: none;\n",
              "      border-radius: 50%;\n",
              "      cursor: pointer;\n",
              "      display: none;\n",
              "      fill: #1967D2;\n",
              "      height: 32px;\n",
              "      padding: 0 0 0 0;\n",
              "      width: 32px;\n",
              "    }\n",
              "\n",
              "    .colab-df-convert:hover {\n",
              "      background-color: #E2EBFA;\n",
              "      box-shadow: 0px 1px 2px rgba(60, 64, 67, 0.3), 0px 1px 3px 1px rgba(60, 64, 67, 0.15);\n",
              "      fill: #174EA6;\n",
              "    }\n",
              "\n",
              "    [theme=dark] .colab-df-convert {\n",
              "      background-color: #3B4455;\n",
              "      fill: #D2E3FC;\n",
              "    }\n",
              "\n",
              "    [theme=dark] .colab-df-convert:hover {\n",
              "      background-color: #434B5C;\n",
              "      box-shadow: 0px 1px 3px 1px rgba(0, 0, 0, 0.15);\n",
              "      filter: drop-shadow(0px 1px 2px rgba(0, 0, 0, 0.3));\n",
              "      fill: #FFFFFF;\n",
              "    }\n",
              "  </style>\n",
              "\n",
              "      <script>\n",
              "        const buttonEl =\n",
              "          document.querySelector('#df-96155fd9-a343-4eca-bd4e-4d780623c2aa button.colab-df-convert');\n",
              "        buttonEl.style.display =\n",
              "          google.colab.kernel.accessAllowed ? 'block' : 'none';\n",
              "\n",
              "        async function convertToInteractive(key) {\n",
              "          const element = document.querySelector('#df-96155fd9-a343-4eca-bd4e-4d780623c2aa');\n",
              "          const dataTable =\n",
              "            await google.colab.kernel.invokeFunction('convertToInteractive',\n",
              "                                                     [key], {});\n",
              "          if (!dataTable) return;\n",
              "\n",
              "          const docLinkHtml = 'Like what you see? Visit the ' +\n",
              "            '<a target=\"_blank\" href=https://colab.research.google.com/notebooks/data_table.ipynb>data table notebook</a>'\n",
              "            + ' to learn more about interactive tables.';\n",
              "          element.innerHTML = '';\n",
              "          dataTable['output_type'] = 'display_data';\n",
              "          await google.colab.output.renderOutput(dataTable, element);\n",
              "          const docLink = document.createElement('div');\n",
              "          docLink.innerHTML = docLinkHtml;\n",
              "          element.appendChild(docLink);\n",
              "        }\n",
              "      </script>\n",
              "    </div>\n",
              "  </div>\n",
              "  "
            ]
          },
          "metadata": {},
          "execution_count": 44
        }
      ]
    }
  ]
}